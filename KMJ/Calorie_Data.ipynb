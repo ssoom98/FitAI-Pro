{
 "cells": [
  {
   "cell_type": "code",
   "execution_count": 8,
   "id": "147f5c34-2a55-4d63-89ac-9070a7b0e5c2",
   "metadata": {},
   "outputs": [],
   "source": [
    "# import \n",
    "import pandas as pd\n",
    "import re"
   ]
  },
  {
   "cell_type": "markdown",
   "id": "6f23b10e-c813-425b-b588-c5a2084efa94",
   "metadata": {},
   "source": [
    "# 식단 Data\n",
    "# 일일 섭취 칼로리 추가"
   ]
  },
  {
   "cell_type": "code",
   "execution_count": 1,
   "id": "8fa2f7fd-9f93-48fb-9cd8-3b27cc34f6d0",
   "metadata": {},
   "outputs": [],
   "source": [
    "calorie_dict = {\n",
    "    \"사과형\": {\n",
    "        \"diet\": {\"남성\": 1500, \"여성\": 1300},\n",
    "        \"muscle_gain\": {\"남성\": 2500, \"여성\": 2200},\n",
    "        \"muscle_maintain_diet\": {\"남성\": 1800, \"여성\": 1600},\n",
    "    },\n",
    "    \"배형\": {\n",
    "        \"diet\": {\"남성\": 1600, \"여성\": 1400},\n",
    "        \"muscle_gain\": {\"남성\": 2600, \"여성\": 2300},\n",
    "        \"muscle_maintain_diet\": {\"남성\": 1900, \"여성\": 1700},\n",
    "    },\n",
    "    \"모래시계형\": {\n",
    "        \"diet\": {\"남성\": 1700, \"여성\": 1500},\n",
    "        \"muscle_gain\": {\"남성\": 2700, \"여성\": 2400},\n",
    "        \"muscle_maintain_diet\": {\"남성\": 2000, \"여성\": 1800},\n",
    "    },\n",
    "    \"엉덩이형\": {\n",
    "        \"diet\": {\"남성\": 1800, \"여성\": 1600},\n",
    "        \"muscle_gain\": {\"남성\": 2800, \"여성\": 2500},\n",
    "        \"muscle_maintain_diet\": {\"남성\": 2100, \"여성\": 1900},\n",
    "    },\n",
    "    \"상체형\": {\n",
    "        \"diet\": {\"남성\": 1900, \"여성\": 1700},\n",
    "        \"muscle_gain\": {\"남성\": 2900, \"여성\": 2600},\n",
    "        \"muscle_maintain_diet\": {\"남성\": 2200, \"여성\": 2000},\n",
    "    },\n",
    "    \"하체형\": {\n",
    "        \"diet\": {\"남성\": 2000, \"여성\": 1800},\n",
    "        \"muscle_gain\": {\"남성\": 3000, \"여성\": 2700},\n",
    "        \"muscle_maintain_diet\": {\"남성\": 2300, \"여성\": 2100},\n",
    "    },\n",
    "    \"표준 체형\": {\n",
    "        \"diet\": {\"남성\": 1700, \"여성\": 1500},\n",
    "        \"muscle_gain\": {\"남성\": 2700, \"여성\": 2400},\n",
    "        \"muscle_maintain_diet\": {\"남성\": 2000, \"여성\": 1800},\n",
    "    },\n",
    "}\n"
   ]
  },
  {
   "cell_type": "code",
   "execution_count": 4,
   "id": "71b4762d-3a09-44e1-82df-3c569af9d116",
   "metadata": {},
   "outputs": [],
   "source": [
    "# CSV 로드\n",
    "diet_df = pd.read_csv(\"data/체형(다이어트).csv\", encoding='cp949')\n",
    "muscle_gain_df = pd.read_csv(\"data/체형(근육).csv\", encoding='cp949')\n",
    "muscle_maintain_df = pd.read_csv(\"data/체형(근육량유지).csv\", encoding='cp949')\n",
    "\n",
    "# 칼로리 컬럼 추가\n",
    "def add_calories(df, goal):\n",
    "    df[\"일일 섭취 칼로리\"] = df.apply(lambda row: calorie_dict[row[\"체형\"]][goal][row[\"성별\"]], axis=1)\n",
    "    return df\n",
    "\n",
    "# 각 데이터프레임에 맞는 칼로리 추가\n",
    "diet_df = add_calories(diet_df, \"diet\")\n",
    "muscle_gain_df = add_calories(muscle_gain_df, \"muscle_gain\")\n",
    "muscle_maintain_df = add_calories(muscle_maintain_df, \"muscle_maintain_diet\")\n",
    "\n",
    "# CSV 저장\n",
    "diet_df.to_csv(\"data/diet.csv\", index=False)\n",
    "muscle_gain_df.to_csv(\"data/muscle.csv\", index=False)\n",
    "muscle_maintain_df.to_csv(\"data/muscle_diet.csv\", index=False)"
   ]
  },
  {
   "cell_type": "code",
   "execution_count": 5,
   "id": "b653fae4-54ec-4879-aebd-2093e8df98b2",
   "metadata": {},
   "outputs": [
    {
     "name": "stdout",
     "output_type": "stream",
     "text": [
      "✅ 데이터셋 저장 완료! (diet_dataset.csv)\n"
     ]
    }
   ],
   "source": [
    "import pandas as pd\n",
    "\n",
    "# ✅ 체형별 칼로리 데이터\n",
    "calorie_dict = {\n",
    "    \"사과형\": {\"diet\": {\"남성\": 1500, \"여성\": 1300}, \"maintain\": {\"남성\": 1800, \"여성\": 1600}, \"gain\": {\"남성\": 2500, \"여성\": 2200}},\n",
    "    \"배형\": {\"diet\": {\"남성\": 1600, \"여성\": 1400}, \"maintain\": {\"남성\": 1900, \"여성\": 1700}, \"gain\": {\"남성\": 2600, \"여성\": 2300}},\n",
    "    \"모래시계형\": {\"diet\": {\"남성\": 1700, \"여성\": 1500}, \"maintain\": {\"남성\": 2000, \"여성\": 1800}, \"gain\": {\"남성\": 2700, \"여성\": 2400}},\n",
    "    \"엉덩이형\": {\"diet\": {\"남성\": 1800, \"여성\": 1600}, \"maintain\": {\"남성\": 2100, \"여성\": 1900}, \"gain\": {\"남성\": 2800, \"여성\": 2500}},\n",
    "    \"상체형\": {\"diet\": {\"남성\": 1900, \"여성\": 1700}, \"maintain\": {\"남성\": 2200, \"여성\": 2000}, \"gain\": {\"남성\": 2900, \"여성\": 2600}},\n",
    "    \"하체형\": {\"diet\": {\"남성\": 2000, \"여성\": 1800}, \"maintain\": {\"남성\": 2300, \"여성\": 2100}, \"gain\": {\"남성\": 3000, \"여성\": 2700}},\n",
    "    \"표준 체형\": {\"diet\": {\"남성\": 1700, \"여성\": 1500}, \"maintain\": {\"남성\": 2000, \"여성\": 1800}, \"gain\": {\"남성\": 2700, \"여성\": 2400}},\n",
    "}\n",
    "\n",
    "# ✅ 탄단지 비율 설정\n",
    "macro_ratio = {\n",
    "    \"diet\": {\"탄수화물\": 40, \"단백질\": 40, \"지방\": 20},\n",
    "    \"maintain\": {\"탄수화물\": 50, \"단백질\": 30, \"지방\": 20},\n",
    "    \"gain\": {\"탄수화물\": 55, \"단백질\": 35, \"지방\": 10},\n",
    "}\n",
    "\n",
    "# ✅ 데이터 저장 리스트\n",
    "data = []\n",
    "\n",
    "# ✅ 데이터셋 생성\n",
    "for body_type, goals in calorie_dict.items():\n",
    "    for goal, kcal_values in goals.items():\n",
    "        for gender, kcal in kcal_values.items():\n",
    "            data.append([\n",
    "                0 if gender == \"남성\" else 1,  # 성별 (0: 남성, 1: 여성)\n",
    "                body_type,  # 체형\n",
    "                goal,  # 목표 (diet / maintain / gain)\n",
    "                kcal,  # 총 섭취 칼로리\n",
    "                macro_ratio[goal][\"탄수화물\"],  # 탄수화물 비율\n",
    "                macro_ratio[goal][\"단백질\"],  # 단백질 비율\n",
    "                macro_ratio[goal][\"지방\"],  # 지방 비율\n",
    "            ])\n",
    "\n",
    "# ✅ DataFrame 생성\n",
    "df = pd.DataFrame(data, columns=[\"성별\", \"체형\", \"목표\", \"총 섭취 칼로리\", \"탄수화물(%)\", \"단백질(%)\", \"지방(%)\"])\n",
    "\n",
    "# ✅ CSV 파일 저장\n",
    "df.to_csv(\"diet_dataset.csv\", index=False, encoding=\"utf-8-sig\")\n",
    "\n",
    "print(\"✅ 데이터셋 저장 완료! (diet_dataset.csv)\")\n"
   ]
  },
  {
   "cell_type": "code",
   "execution_count": 7,
   "id": "a564a8c0-d0e3-4996-b78b-1c1ba2de382f",
   "metadata": {},
   "outputs": [
    {
     "data": {
      "text/html": [
       "<div>\n",
       "<style scoped>\n",
       "    .dataframe tbody tr th:only-of-type {\n",
       "        vertical-align: middle;\n",
       "    }\n",
       "\n",
       "    .dataframe tbody tr th {\n",
       "        vertical-align: top;\n",
       "    }\n",
       "\n",
       "    .dataframe thead th {\n",
       "        text-align: right;\n",
       "    }\n",
       "</style>\n",
       "<table border=\"1\" class=\"dataframe\">\n",
       "  <thead>\n",
       "    <tr style=\"text-align: right;\">\n",
       "      <th></th>\n",
       "      <th>식품명(한글)</th>\n",
       "      <th>칼로리</th>\n",
       "      <th>탄수화물</th>\n",
       "      <th>단백질</th>\n",
       "      <th>지방</th>\n",
       "      <th>1회 섭취량</th>\n",
       "    </tr>\n",
       "  </thead>\n",
       "  <tbody>\n",
       "    <tr>\n",
       "      <th>0</th>\n",
       "      <td>가리비</td>\n",
       "      <td>2358.0</td>\n",
       "      <td>113.97</td>\n",
       "      <td>197.08</td>\n",
       "      <td>119.08</td>\n",
       "      <td>1086g</td>\n",
       "    </tr>\n",
       "    <tr>\n",
       "      <th>1</th>\n",
       "      <td>가지</td>\n",
       "      <td>24.0</td>\n",
       "      <td>5.70</td>\n",
       "      <td>1.01</td>\n",
       "      <td>0.19</td>\n",
       "      <td>100g</td>\n",
       "    </tr>\n",
       "    <tr>\n",
       "      <th>2</th>\n",
       "      <td>가지구이</td>\n",
       "      <td>220.0</td>\n",
       "      <td>3.00</td>\n",
       "      <td>14.00</td>\n",
       "      <td>17.00</td>\n",
       "      <td>1 link</td>\n",
       "    </tr>\n",
       "    <tr>\n",
       "      <th>3</th>\n",
       "      <td>가츠동</td>\n",
       "      <td>307.0</td>\n",
       "      <td>4.45</td>\n",
       "      <td>12.65</td>\n",
       "      <td>26.10</td>\n",
       "      <td>100g</td>\n",
       "    </tr>\n",
       "    <tr>\n",
       "      <th>4</th>\n",
       "      <td>간장</td>\n",
       "      <td>53.0</td>\n",
       "      <td>7.61</td>\n",
       "      <td>6.28</td>\n",
       "      <td>0.04</td>\n",
       "      <td>100g</td>\n",
       "    </tr>\n",
       "  </tbody>\n",
       "</table>\n",
       "</div>"
      ],
      "text/plain": [
       "  식품명(한글)     칼로리    탄수화물     단백질      지방  1회 섭취량\n",
       "0     가리비  2358.0  113.97  197.08  119.08   1086g\n",
       "1      가지    24.0    5.70    1.01    0.19    100g\n",
       "2    가지구이   220.0    3.00   14.00   17.00  1 link\n",
       "3     가츠동   307.0    4.45   12.65   26.10    100g\n",
       "4      간장    53.0    7.61    6.28    0.04    100g"
      ]
     },
     "execution_count": 7,
     "metadata": {},
     "output_type": "execute_result"
    }
   ],
   "source": [
    "food_df = pd.read_csv('data/food_nutrition_data.csv')\n",
    "food_df.head()"
   ]
  },
  {
   "cell_type": "code",
   "execution_count": 11,
   "id": "41dc4fb7-3b29-4557-a4cf-6439848367d0",
   "metadata": {},
   "outputs": [
    {
     "name": "stdout",
     "output_type": "stream",
     "text": [
      "✅ 전처리 완료! (processed_food_nutrition_data.csv 저장)\n"
     ]
    }
   ],
   "source": [
    "def convert_serving_size(value):\n",
    "    match = re.search(r\"(\\d+)\", str(value))  # 숫자만 추출\n",
    "    return int(match.group(1)) if match else None  # 변환 실패 시 None 반환\n",
    "\n",
    "food_df[\"1회 섭취량 (g)\"] = food_df[\"1회 섭취량\"].apply(convert_serving_size)\n",
    "\n",
    "# ✅ 숫자로 변환 (칼로리, 탄수화물, 단백질, 지방)\n",
    "numeric_cols = [\"칼로리\", \"탄수화물\", \"단백질\", \"지방\"]\n",
    "food_df[numeric_cols] = food_df[numeric_cols].apply(pd.to_numeric, errors=\"coerce\")  # 변환 불가 값 NaN 처리\n",
    "\n",
    "# ✅ NaN 값 확인 및 제거\n",
    "print(\"🚀 결측값 개수:\\n\", df.isna().sum())  \n",
    "food_df = food_df.dropna()  # NaN 값 제거\n",
    "\n",
    "# ✅ 전처리된 데이터 확인\n",
    "print(food_df.head())\n",
    "\n",
    "# ✅ 전처리된 데이터 저장\n",
    "food_df.to_csv(\"data/processed_food_nutrition_data.csv\", index=False, encoding=\"utf-8-sig\")\n",
    "print(\"✅ 전처리 완료! (processed_food_nutrition_data.csv 저장)\")"
   ]
  },
  {
   "cell_type": "code",
   "execution_count": null,
   "id": "fe798b2e-67b7-46b6-8880-0fb0a9670f51",
   "metadata": {},
   "outputs": [],
   "source": []
  },
  {
   "cell_type": "code",
   "execution_count": null,
   "id": "302cb71d-1abb-4319-a8a8-239604b00b5a",
   "metadata": {},
   "outputs": [],
   "source": []
  },
  {
   "cell_type": "code",
   "execution_count": null,
   "id": "f447329e-d839-4fbc-82dc-f87effe3c970",
   "metadata": {},
   "outputs": [],
   "source": []
  },
  {
   "cell_type": "code",
   "execution_count": null,
   "id": "459725db-119a-4e80-a6b2-011c53be6ef8",
   "metadata": {},
   "outputs": [],
   "source": []
  },
  {
   "cell_type": "code",
   "execution_count": null,
   "id": "415bb2fa-db69-4770-9cfa-896e52a82e12",
   "metadata": {},
   "outputs": [],
   "source": []
  },
  {
   "cell_type": "code",
   "execution_count": null,
   "id": "f448ab3d-0817-46e1-9f36-a5c767c2fb5a",
   "metadata": {},
   "outputs": [],
   "source": []
  },
  {
   "cell_type": "code",
   "execution_count": null,
   "id": "f38029a2-563c-4197-bc8f-d841e27b4a6e",
   "metadata": {},
   "outputs": [],
   "source": []
  }
 ],
 "metadata": {
  "kernelspec": {
   "display_name": "Python 3 (ipykernel)",
   "language": "python",
   "name": "python3"
  },
  "language_info": {
   "codemirror_mode": {
    "name": "ipython",
    "version": 3
   },
   "file_extension": ".py",
   "mimetype": "text/x-python",
   "name": "python",
   "nbconvert_exporter": "python",
   "pygments_lexer": "ipython3",
   "version": "3.8.20"
  },
  "widgets": {
   "application/vnd.jupyter.widget-state+json": {
    "state": {},
    "version_major": 2,
    "version_minor": 0
   }
  }
 },
 "nbformat": 4,
 "nbformat_minor": 5
}
