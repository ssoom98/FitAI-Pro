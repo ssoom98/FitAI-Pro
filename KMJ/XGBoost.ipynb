{
 "cells": [
  {
   "cell_type": "code",
   "execution_count": 1,
   "id": "6d08d152-cea3-482b-8c4f-a0033fe953bc",
   "metadata": {},
   "outputs": [
    {
     "name": "stdout",
     "output_type": "stream",
     "text": [
      "✅ 모델 학습 완료! 평균 절대 오차 (MAE): 240.83\n",
      "✅ 모델 저장 완료! 파일: xgboost_meal_plan.json\n"
     ]
    }
   ],
   "source": [
    "import pandas as pd\n",
    "import xgboost as xgb\n",
    "from sklearn.model_selection import train_test_split\n",
    "from sklearn.preprocessing import LabelEncoder\n",
    "from sklearn.metrics import mean_absolute_error\n",
    "\n",
    "# 데이터 불러오기\n",
    "file_path = \"data/generated_meal_plan.csv\"\n",
    "df = pd.read_csv(file_path)\n",
    "\n",
    "# 필요 없는 열 제거 (아침, 점심, 저녁 음식명은 학습에 사용하지 않음)\n",
    "df = df.drop(columns=[\"아침\", \"점심\", \"저녁\"])\n",
    "\n",
    "# 범주형 변수 변환 (성별, 체형, 목표 → 숫자로 인코딩)\n",
    "label_encoders = {}\n",
    "for col in [\"성별\", \"체형\", \"목표\"]:\n",
    "    le = LabelEncoder()\n",
    "    df[col] = le.fit_transform(df[col])\n",
    "    label_encoders[col] = le  # 인코더 저장 (추후 예측할 때 필요)\n",
    "\n",
    "# 입력(X)과 출력(y) 분리\n",
    "X = df[[\"성별\", \"체형\", \"목표\"]]\n",
    "y = df[[\"총 칼로리\", \"탄수화물\", \"단백질\", \"지방\"]]\n",
    "\n",
    "# 데이터 분할 (학습용 80%, 검증용 20%)\n",
    "X_train, X_test, y_train, y_test = train_test_split(X, y, test_size=0.2, random_state=42)\n",
    "\n",
    "X_train = X_train.fillna(X_train.mean())  # 평균값으로 대체\n",
    "X_test = X_test.fillna(X_test.mean())\n",
    "y_train = y_train.fillna(y_train.mean())\n",
    "y_test = y_test.fillna(y_test.mean())\n",
    "\n",
    "# XGBoost 모델 학습\n",
    "model = xgb.XGBRegressor(objective=\"reg:squarederror\", n_estimators=300, learning_rate=0.01, max_depth=3, subsample=0.8)\n",
    "model.fit(X_train, y_train)\n",
    "\n",
    "# 예측 수행\n",
    "y_pred = model.predict(X_test)\n",
    "\n",
    "# 평가 (평균 절대 오차)\n",
    "mae = mean_absolute_error(y_test, y_pred)\n",
    "print(f\"모델 학습 완료! 평균 절대 오차 (MAE): {mae:.2f}\")\n",
    "\n",
    "# 모델 저장\n",
    "model.save_model(\"data/xgboost_meal_plan.json\")\n",
    "print(\"모델 저장 완료! 파일: xgboost_meal_plan.json\")\n"
   ]
  },
  {
   "cell_type": "code",
   "execution_count": 2,
   "id": "0f238bd9-caec-4a3f-85b8-1a1fc4a0b773",
   "metadata": {},
   "outputs": [
    {
     "name": "stdout",
     "output_type": "stream",
     "text": [
      "📊 모델 평가 결과\n",
      "🔹 평균 제곱 오차 (MSE): 334332.84\n",
      "🔹 평균 제곱근 오차 (RMSE): 578.22\n",
      "🔹 결정계수 (R² Score): -0.3327\n"
     ]
    }
   ],
   "source": [
    "from sklearn.metrics import mean_squared_error, r2_score\n",
    "import numpy as np\n",
    "\n",
    "# 예측값 생성\n",
    "y_pred = model.predict(X_test)\n",
    "\n",
    "# 평가 지표 계산\n",
    "mse = mean_squared_error(y_test, y_pred)\n",
    "rmse = np.sqrt(mse)\n",
    "r2 = r2_score(y_test, y_pred)\n",
    "\n",
    "# 결과 출력\n",
    "print(f\"모델 평가 결과\")\n",
    "print(f\"평균 제곱 오차 (MSE): {mse:.2f}\")\n",
    "print(f\"평균 제곱근 오차 (RMSE): {rmse:.2f}\")\n",
    "print(f\"결정계수 (R² Score): {r2:.4f}\")\n"
   ]
  },
  {
   "cell_type": "code",
   "execution_count": 3,
   "id": "b7885b5e-fc69-4ff2-ae85-7c217021cb03",
   "metadata": {},
   "outputs": [
    {
     "name": "stdout",
     "output_type": "stream",
     "text": [
      "Fitting 5 folds for each of 20 candidates, totalling 100 fits\n",
      "최적 하이퍼파라미터: {'subsample': 0.5, 'n_estimators': 200, 'max_depth': 3, 'learning_rate': 0.05, 'colsample_bytree': 0.5}\n",
      "📊 모델 평가 결과\n",
      "🔹 MSE: 316368.54\n",
      "🔹 RMSE: 562.47\n",
      "🔹 R² Score: -0.1298\n"
     ]
    }
   ],
   "source": [
    "from sklearn.model_selection import RandomizedSearchCV\n",
    "import xgboost as xgb\n",
    "\n",
    "# XGBoost 모델 생성\n",
    "xgb_model = xgb.XGBRegressor(objective=\"reg:squarederror\", random_state=42)\n",
    "\n",
    "# 하이퍼파라미터 검색 공간 정의\n",
    "param_distributions = {\n",
    "    \"learning_rate\": [0.01, 0.05, 0.1, 0.2, 0.3],\n",
    "    \"max_depth\": [3, 5, 7, 9, 12],\n",
    "    \"n_estimators\": [100, 200, 300, 400, 500],\n",
    "    \"subsample\": [0.5, 0.7, 0.8, 0.9, 1],\n",
    "    \"colsample_bytree\": [0.5, 0.7, 0.8, 0.9, 1]\n",
    "}\n",
    "\n",
    "# 랜덤 서치 실행 (n_iter는 탐색 횟수)\n",
    "random_search = RandomizedSearchCV(\n",
    "    xgb_model, param_distributions, \n",
    "    n_iter=20, scoring=\"neg_mean_absolute_error\", \n",
    "    cv=5, verbose=1, random_state=42, n_jobs=-1\n",
    ")\n",
    "\n",
    "# 학습 수행\n",
    "random_search.fit(X_train, y_train)\n",
    "\n",
    "# 최적 하이퍼파라미터 출력\n",
    "print(\"최적 하이퍼파라미터:\", random_search.best_params_)\n",
    "\n",
    "# 최적 모델로 테스트 데이터 평가\n",
    "best_model = random_search.best_estimator_\n",
    "y_pred = best_model.predict(X_test)\n",
    "\n",
    "mse = mean_squared_error(y_test, y_pred)\n",
    "rmse = mse ** 0.5\n",
    "r2 = r2_score(y_test, y_pred)\n",
    "\n",
    "print(f\"📊 모델 평가 결과\")\n",
    "print(f\"🔹 MSE: {mse:.2f}\")\n",
    "print(f\"🔹 RMSE: {rmse:.2f}\")\n",
    "print(f\"🔹 R² Score: {r2:.4f}\")\n"
   ]
  },
  {
   "cell_type": "code",
   "execution_count": 10,
   "id": "3192cd47-7b09-4edc-96ec-db5045236799",
   "metadata": {},
   "outputs": [
    {
     "name": "stdout",
     "output_type": "stream",
     "text": [
      "Fitting 5 folds for each of 243 candidates, totalling 1215 fits\n",
      "🔎 최적 하이퍼파라미터: {'colsample_bytree': 0.4, 'learning_rate': 0.03, 'max_depth': 2, 'n_estimators': 150, 'subsample': 0.6}\n",
      "📊 모델 평가 결과\n",
      "🔹 MSE: 286115.56\n",
      "🔹 RMSE: 534.90\n",
      "🔹 R² Score: -0.0459\n"
     ]
    }
   ],
   "source": [
    "from sklearn.model_selection import GridSearchCV\n",
    "\n",
    "# 더 정밀한 하이퍼파라미터 범위 설정\n",
    "param_grid = {\n",
    "    \"learning_rate\": [0.03, 0.05, 0.07],\n",
    "    \"max_depth\": [2, 3, 4],\n",
    "    \"n_estimators\": [150, 200, 250],\n",
    "    \"subsample\": [0.4, 0.5, 0.6],\n",
    "    \"colsample_bytree\": [0.4, 0.5, 0.6]\n",
    "}\n",
    "\n",
    "# Grid Search 실행\n",
    "grid_search = GridSearchCV(\n",
    "    xgb.XGBRegressor(objective=\"reg:squarederror\", random_state=42),\n",
    "    param_grid,\n",
    "    scoring=\"neg_mean_absolute_error\",\n",
    "    cv=5,\n",
    "    verbose=1,\n",
    "    n_jobs=-1\n",
    ")\n",
    "\n",
    "# 학습 수행\n",
    "grid_search.fit(X_train, y_train)\n",
    "\n",
    "# 최적 하이퍼파라미터 출력\n",
    "print(\"🔎 최적 하이퍼파라미터:\", grid_search.best_params_)\n",
    "\n",
    "# 최적 모델로 평가\n",
    "best_model = grid_search.best_estimator_\n",
    "y_pred = best_model.predict(X_test)\n",
    "\n",
    "mse = mean_squared_error(y_test, y_pred)\n",
    "rmse = mse ** 0.5\n",
    "r2 = r2_score(y_test, y_pred)\n",
    "\n",
    "print(f\"📊 모델 평가 결과\")\n",
    "print(f\"🔹 MSE: {mse:.2f}\")\n",
    "print(f\"🔹 RMSE: {rmse:.2f}\")\n",
    "print(f\"🔹 R² Score: {r2:.4f}\")\n"
   ]
  },
  {
   "cell_type": "code",
   "execution_count": 7,
   "id": "21dd36bd-8357-4ce0-8b37-fa739c7e9cae",
   "metadata": {},
   "outputs": [],
   "source": [
    "from sklearn.preprocessing import StandardScaler\n",
    "\n",
    "scaler = StandardScaler()\n",
    "X_train_scaled = scaler.fit_transform(X_train)\n",
    "X_test_scaled = scaler.transform(X_test)"
   ]
  },
  {
   "cell_type": "code",
   "execution_count": null,
   "id": "df82eabb-1664-49d2-8f59-bd6aec0253d6",
   "metadata": {},
   "outputs": [],
   "source": []
  }
 ],
 "metadata": {
  "kernelspec": {
   "display_name": "Python 3 (ipykernel)",
   "language": "python",
   "name": "python3"
  },
  "language_info": {
   "codemirror_mode": {
    "name": "ipython",
    "version": 3
   },
   "file_extension": ".py",
   "mimetype": "text/x-python",
   "name": "python",
   "nbconvert_exporter": "python",
   "pygments_lexer": "ipython3",
   "version": "3.8.20"
  },
  "widgets": {
   "application/vnd.jupyter.widget-state+json": {
    "state": {},
    "version_major": 2,
    "version_minor": 0
   }
  }
 },
 "nbformat": 4,
 "nbformat_minor": 5
}
