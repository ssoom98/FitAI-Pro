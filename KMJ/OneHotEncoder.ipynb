{
 "cells": [
  {
   "cell_type": "code",
   "execution_count": 2,
   "id": "f683b480-5537-412c-b0b9-703af6fa4e2a",
   "metadata": {},
   "outputs": [
    {
     "name": "stdout",
     "output_type": "stream",
     "text": [
      "🔍 body_type_df 확인: (42, 6)\n",
      "      체형         필요식단  성별  저탄수화물  고단백  고지방\n",
      "0    사과형    저탄수화물 고단백   0      1    1    0\n",
      "1    사과형    저탄수화물 고단백   1      1    1    0\n",
      "2     배형  적절한 탄수화물 섭취   0      0    0    0\n",
      "3     배형  적절한 탄수화물 섭취   1      0    0    0\n",
      "4  모래시계형     균형 잡힌 식단   0      0    0    0\n",
      "🔍 food_nutrition_df 확인: (42896, 14)\n",
      "  식품명(한글)          식품명                  검색된 이름       칼로리      탄수화물       단백질  \\\n",
      "0     가리비      scallop                Scallops  0.339183  0.073225  0.807374   \n",
      "1      가지    egg plant                Eggplant  0.003452  0.003662  0.004138   \n",
      "2    가지구이        Grill           Grill Sausage  0.031646  0.001927  0.057354   \n",
      "3     가츠동  Katsu -dong  Frankfurter or Hot Dog  0.044160  0.002859  0.051823   \n",
      "4      간장    soy sauce               Soy Sauce  0.007624  0.004889  0.025727   \n",
      "\n",
      "         지방 고유ID  1회 섭취량(g)  kcal  탄수화물(g)  단백질(g)  지방(g)  당류(g)  \n",
      "0  0.334701  NaN        NaN   NaN      NaN     NaN    NaN    NaN  \n",
      "1  0.000534  NaN        NaN   NaN      NaN     NaN    NaN    NaN  \n",
      "2  0.047782  NaN        NaN   NaN      NaN     NaN    NaN    NaN  \n",
      "3  0.073360  NaN        NaN   NaN      NaN     NaN    NaN    NaN  \n",
      "4  0.000112  NaN        NaN   NaN      NaN     NaN    NaN    NaN  \n"
     ]
    }
   ],
   "source": [
    "import pandas as pd\n",
    "\n",
    "# ✅ 데이터 로드\n",
    "file_path = \"/mnt/data/final_dataset.csv\"  # 저장할 파일 경로\n",
    "body_type_df = pd.read_csv(\"processed_body_type.csv\", encoding=\"utf-8-sig\")\n",
    "food_nutrition_df = pd.read_csv(\"processed_food_nutrition.csv\", encoding=\"utf-8-sig\")\n",
    "\n",
    "# ✅ 데이터 크기 및 컬럼 확인\n",
    "print(\"🔍 body_type_df 확인:\", body_type_df.shape)\n",
    "print(body_type_df.head())\n",
    "\n",
    "print(\"🔍 food_nutrition_df 확인:\", food_nutrition_df.shape)\n",
    "print(food_nutrition_df.head())\n"
   ]
  },
  {
   "cell_type": "code",
   "execution_count": 3,
   "id": "5f073121-e63c-4b0b-9f0c-9f773382eb75",
   "metadata": {},
   "outputs": [
    {
     "name": "stdout",
     "output_type": "stream",
     "text": [
      "🔍 expanded_food_nutrition_df 크기: (1801632, 16)\n"
     ]
    }
   ],
   "source": [
    "# ✅ '체형'과 '성별' 추가 (Cross Join)\n",
    "body_type_df[\"key\"] = 1\n",
    "food_nutrition_df[\"key\"] = 1\n",
    "\n",
    "expanded_food_nutrition_df = pd.merge(food_nutrition_df, body_type_df[[\"체형\", \"성별\", \"key\"]], on=\"key\").drop(columns=[\"key\"])\n",
    "\n",
    "# ✅ 병합 후 데이터 크기 확인\n",
    "print(\"🔍 expanded_food_nutrition_df 크기:\", expanded_food_nutrition_df.shape)\n"
   ]
  },
  {
   "cell_type": "code",
   "execution_count": 4,
   "id": "96d9aa21-6dd9-49fb-acd8-fe9702425e87",
   "metadata": {},
   "outputs": [
    {
     "name": "stdout",
     "output_type": "stream",
     "text": [
      "🔍 결측치 확인:\n"
     ]
    },
    {
     "ename": "NameError",
     "evalue": "name 'merged_df' is not defined",
     "output_type": "error",
     "traceback": [
      "\u001b[1;31m---------------------------------------------------------------------------\u001b[0m",
      "\u001b[1;31mNameError\u001b[0m                                 Traceback (most recent call last)",
      "Cell \u001b[1;32mIn[4], line 3\u001b[0m\n\u001b[0;32m      1\u001b[0m \u001b[38;5;66;03m# ✅ 결측치 개수 확인\u001b[39;00m\n\u001b[0;32m      2\u001b[0m \u001b[38;5;28mprint\u001b[39m(\u001b[38;5;124m\"\u001b[39m\u001b[38;5;124m🔍 결측치 확인:\u001b[39m\u001b[38;5;124m\"\u001b[39m)\n\u001b[1;32m----> 3\u001b[0m \u001b[38;5;28mprint\u001b[39m(\u001b[43mmerged_df\u001b[49m\u001b[38;5;241m.\u001b[39misnull()\u001b[38;5;241m.\u001b[39msum())\n\u001b[0;32m      5\u001b[0m \u001b[38;5;66;03m# ✅ 주요 수치형 컬럼 결측치를 0으로 채우기\u001b[39;00m\n\u001b[0;32m      6\u001b[0m \u001b[38;5;28;01mfor\u001b[39;00m col \u001b[38;5;129;01min\u001b[39;00m [\u001b[38;5;124m\"\u001b[39m\u001b[38;5;124m칼로리\u001b[39m\u001b[38;5;124m\"\u001b[39m, \u001b[38;5;124m\"\u001b[39m\u001b[38;5;124m탄수화물\u001b[39m\u001b[38;5;124m\"\u001b[39m, \u001b[38;5;124m\"\u001b[39m\u001b[38;5;124m단백질\u001b[39m\u001b[38;5;124m\"\u001b[39m, \u001b[38;5;124m\"\u001b[39m\u001b[38;5;124m지방\u001b[39m\u001b[38;5;124m\"\u001b[39m]:\n",
      "\u001b[1;31mNameError\u001b[0m: name 'merged_df' is not defined"
     ]
    }
   ],
   "source": [
    "# ✅ 결측치 개수 확인\n",
    "print(\"🔍 결측치 확인:\")\n",
    "print(merged_df.isnull().sum())\n",
    "\n",
    "# ✅ 주요 수치형 컬럼 결측치를 0으로 채우기\n",
    "for col in [\"칼로리\", \"탄수화물\", \"단백질\", \"지방\"]:\n",
    "    merged_df[col].fillna(0, inplace=True)\n",
    "\n",
    "# ✅ 필요 없는 key 컬럼 삭제\n",
    "if \"key\" in merged_df.columns:\n",
    "    merged_df.drop(columns=[\"key\"], inplace=True)\n",
    "\n",
    "# ✅ 결측치 처리 후 다시 확인\n",
    "print(\"🔍 결측치 처리 후 확인:\")\n",
    "print(merged_df.isnull().sum())\n"
   ]
  },
  {
   "cell_type": "code",
   "execution_count": null,
   "id": "404d93c5-e46e-4e85-800c-5007aa4c226f",
   "metadata": {},
   "outputs": [],
   "source": []
  }
 ],
 "metadata": {
  "kernelspec": {
   "display_name": "Python 3 (ipykernel)",
   "language": "python",
   "name": "python3"
  },
  "language_info": {
   "codemirror_mode": {
    "name": "ipython",
    "version": 3
   },
   "file_extension": ".py",
   "mimetype": "text/x-python",
   "name": "python",
   "nbconvert_exporter": "python",
   "pygments_lexer": "ipython3",
   "version": "3.8.20"
  },
  "widgets": {
   "application/vnd.jupyter.widget-state+json": {
    "state": {},
    "version_major": 2,
    "version_minor": 0
   }
  }
 },
 "nbformat": 4,
 "nbformat_minor": 5
}
