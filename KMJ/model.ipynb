{
 "cells": [
  {
   "cell_type": "code",
   "execution_count": 27,
   "id": "8ee383f1-5c3b-4129-a4a9-b07fea50be05",
   "metadata": {},
   "outputs": [],
   "source": [
    "import pandas as pd\n",
    "import xgboost as xgb\n",
    "from sklearn.model_selection import train_test_split\n",
    "from sklearn.preprocessing import OneHotEncoder, LabelEncoder\n",
    "from sklearn.metrics import accuracy_score, classification_report\n",
    "from sklearn.feature_extraction.text import TfidfVectorizer\n",
    "from scipy.sparse import hstack"
   ]
  },
  {
   "cell_type": "code",
   "execution_count": 40,
   "id": "937e7dcb-f14f-40e6-a83a-5b24a0e81494",
   "metadata": {},
   "outputs": [
    {
     "name": "stderr",
     "output_type": "stream",
     "text": [
      "C:\\Users\\fn45\\anaconda3\\envs\\myenv\\lib\\site-packages\\xgboost\\core.py:158: UserWarning: [15:34:21] WARNING: C:\\buildkite-agent\\builds\\buildkite-windows-cpu-autoscaling-group-i-08cbc0333d8d4aae1-1\\xgboost\\xgboost-ci-windows\\src\\learner.cc:740: \n",
      "Parameters: { \"use_label_encoder\" } are not used.\n",
      "\n",
      "  warnings.warn(smsg, UserWarning)\n"
     ]
    },
    {
     "name": "stdout",
     "output_type": "stream",
     "text": [
      "✅ 모델 정확도: 0.5775\n",
      "              precision    recall  f1-score   support\n",
      "\n",
      "           0       0.25      0.22      0.24       673\n",
      "           1       0.26      0.28      0.27       675\n",
      "           2       1.00      1.00      1.00       667\n",
      "           3       1.00      1.00      1.00       681\n",
      "           4       1.00      1.00      1.00       687\n",
      "           5       1.00      1.00      1.00      1269\n",
      "           6       0.23      0.20      0.21       678\n",
      "           7       0.29      0.32      0.30       682\n",
      "           8       0.26      0.24      0.25       652\n",
      "           9       1.00      1.00      1.00       687\n",
      "          10       1.00      1.00      1.00       674\n",
      "          11       0.29      0.37      0.33       638\n",
      "          12       0.22      0.17      0.19       688\n",
      "          13       0.24      0.22      0.23       686\n",
      "          14       0.29      0.32      0.30       669\n",
      "          15       0.24      0.21      0.23       672\n",
      "          16       1.00      1.00      1.00       629\n",
      "          17       1.00      1.00      1.00       682\n",
      "          18       0.27      0.30      0.28       637\n",
      "          19       0.27      0.29      0.28       635\n",
      "\n",
      "    accuracy                           0.58     13961\n",
      "   macro avg       0.56      0.56      0.56     13961\n",
      "weighted avg       0.58      0.58      0.58     13961\n",
      "\n"
     ]
    }
   ],
   "source": [
    "# ✅ 데이터 로드\n",
    "file_path = \"final_dataset.csv\"\n",
    "df = pd.read_csv(file_path)\n",
    "\n",
    "# ✅ 결측치 처리\n",
    "df.fillna(0, inplace=True)  # 모든 결측치를 0으로 채움\n",
    "\n",
    "# 🔥 원핫 인코딩 (체형, 성별)\n",
    "categorical_features = [\"체형\", \"성별\"]\n",
    "ohe = OneHotEncoder(sparse_output=False, drop=\"first\")  # <- Warning 해결 (sparse → sparse_output)\n",
    "ohe_encoded = ohe.fit_transform(df[categorical_features])\n",
    "ohe_df = pd.DataFrame(ohe_encoded, columns=ohe.get_feature_names_out())\n",
    "\n",
    "# ✅ 기존 카테고리컬 컬럼 제거 후 원핫 인코딩된 데이터 결합\n",
    "df.drop(columns=categorical_features, inplace=True)\n",
    "df = pd.concat([df, ohe_df], axis=1)\n",
    "\n",
    "# 🔥 **타겟 변수 변환 (문자 → 숫자)**\n",
    "label_encoder = LabelEncoder()\n",
    "df[\"필요식단\"] = label_encoder.fit_transform(df[\"필요식단\"])\n",
    "\n",
    "# ✅ 학습 데이터 준비\n",
    "X = df.drop(columns=[\"필요식단\"])  # 입력 변수\n",
    "y = df[\"필요식단\"]  # 숫자로 변환된 타겟 변수\n",
    "\n",
    "# ✅ 학습/테스트 데이터 분리\n",
    "X_train, X_test, y_train, y_test = train_test_split(X, y, test_size=0.2, random_state=42)\n",
    "\n",
    "# 🔥 TF-IDF 변환기 생성\n",
    "tfidf = TfidfVectorizer(max_features=5000, ngram_range=(1,2))\n",
    "\n",
    "# 🔥 '식품명(한글)' 컬럼을 TF-IDF로 변환\n",
    "X_train_tfidf = tfidf.fit_transform(X_train[\"식품명(한글)\"].astype(str))\n",
    "X_test_tfidf = tfidf.transform(X_test[\"식품명(한글)\"].astype(str))\n",
    "\n",
    "# ✅ 기존 데이터에서 '식품명(한글)' 컬럼 제거 후, 숫자형 데이터로 변환\n",
    "X_train = X_train.drop(columns=[\"식품명(한글)\"]).apply(pd.to_numeric, errors=\"coerce\").fillna(0)\n",
    "X_test = X_test.drop(columns=[\"식품명(한글)\"]).apply(pd.to_numeric, errors=\"coerce\").fillna(0)\n",
    "\n",
    "# ✅ TF-IDF 데이터를 기존 데이터와 결합\n",
    "X_train = hstack([X_train.values, X_train_tfidf])\n",
    "X_test = hstack([X_test.values, X_test_tfidf])\n",
    "\n",
    "# ✅ XGBoost 모델 학습 (enable_categorical=True 추가)\n",
    "model = xgb.XGBClassifier(enable_categorical=True, use_label_encoder=False, eval_metric=\"mlogloss\",\n",
    "                         max_depth=5, learning_rate=0.1, n_estimators=500)\n",
    "# model = xgb.XGBClassifier(max_depth=5, learning_rate=0.1, n_estimators=500)\n",
    "\n",
    "# ✅ XGBoost 모델 학습\n",
    "model.fit(X_train, y_train)\n",
    "\n",
    "# ✅ 예측 및 평가\n",
    "y_pred = model.predict(X_test)\n",
    "accuracy = accuracy_score(y_test, y_pred)\n",
    "print(f\"✅ 모델 정확도: {accuracy:.4f}\")\n",
    "print(classification_report(y_test, y_pred))\n",
    "\n",
    "# ✅ 모델 저장 (원하면 주석 해제)\n",
    "# model.save_model(\"xgboost_diet_model.json\")\n",
    "\n",
    "# # 🔥 (선택) 예측값을 다시 원래 문자열 라벨로 변환\n",
    "# decoded_y_pred = label_encoder.inverse_transform(y_pred)\n",
    "# print(\"🔍 예측된 식단 카테고리 예시:\", decoded_y_pred[:5])  # 일부만 출력"
   ]
  },
  {
   "cell_type": "code",
   "execution_count": 41,
   "id": "5da2d988-d153-4eb6-858a-c7c21faf5031",
   "metadata": {},
   "outputs": [
    {
     "name": "stdout",
     "output_type": "stream",
     "text": [
      "3508     18\n",
      "821      14\n",
      "2532     14\n",
      "2706     14\n",
      "54573     5\n",
      "36228    10\n",
      "26466    15\n",
      "35230    10\n",
      "59716    12\n",
      "17377    16\n",
      "Name: 필요식단, dtype: int32\n",
      "{0, 1, 2, 3, 4, 5, 6, 7, 8, 9, 10, 11, 12, 13, 14, 15, 16, 17, 18, 19}\n"
     ]
    }
   ],
   "source": [
    "print(y_train[:10])  # 라벨 데이터 일부 출력\n",
    "print(set(y_train))  # 라벨에 어떤 값들이 있는지 확인\n"
   ]
  },
  {
   "cell_type": "code",
   "execution_count": 42,
   "id": "a5288166-d9d1-46f9-9f6e-1025ab81f4af",
   "metadata": {},
   "outputs": [
    {
     "name": "stdout",
     "output_type": "stream",
     "text": [
      "필요식단\n",
      "5     5379\n",
      "16    2695\n",
      "19    2689\n",
      "18    2687\n",
      "11    2686\n",
      "8     2672\n",
      "2     2657\n",
      "14    2655\n",
      "15    2652\n",
      "0     2651\n",
      "10    2650\n",
      "1     2649\n",
      "6     2646\n",
      "3     2643\n",
      "7     2642\n",
      "17    2642\n",
      "13    2638\n",
      "9     2637\n",
      "4     2637\n",
      "12    2636\n",
      "Name: count, dtype: int64\n"
     ]
    }
   ],
   "source": [
    "print(y_train.value_counts())"
   ]
  },
  {
   "cell_type": "code",
   "execution_count": 43,
   "id": "8eaadc26-680b-4605-84bb-504c1bc43b2a",
   "metadata": {},
   "outputs": [
    {
     "name": "stdout",
     "output_type": "stream",
     "text": [
      "✅ 추천 식단: 단백질 보충 & 저탄수화물\n"
     ]
    }
   ],
   "source": [
    "import numpy as np\n",
    "\n",
    "# 사용자가 입력할 체형과 성별 (예: 모래시계형 & 여성)\n",
    "user_input = pd.DataFrame({\n",
    "    \"체형_모래시계형\": [1],  # 원핫 인코딩된 체형 값\n",
    "    \"체형_사과형\": [0],\n",
    "    \"체형_배형\": [0],\n",
    "    \"체형_엉덩이형\": [0],\n",
    "    \"체형_상체형\": [0],\n",
    "    \"체형_하체형\": [0],\n",
    "    \"체형_표준체형\": [0],\n",
    "    \"성별_여성\": [1],  # 원핫 인코딩된 성별 값\n",
    "})\n",
    "\n",
    "# TF-IDF 벡터화된 식품명 데이터 추가 (이전 데이터에서 평균값으로 대체)\n",
    "text_features_avg = np.zeros((1, X_train.shape[1] - user_input.shape[1]))  # 2D로 변환\n",
    "\n",
    "# 2D 배열끼리 결합\n",
    "user_input_extended = np.hstack([user_input, text_features_avg])\n",
    "# 예측 수행\n",
    "predicted_diet = model.predict(user_input_extended)\n",
    "\n",
    "# 예측된 숫자를 원래 라벨(필요식단 이름)로 변환\n",
    "recommended_diet = label_encoder.inverse_transform(predicted_diet)\n",
    "\n",
    "print(\"✅ 추천 식단:\", recommended_diet[0])\n"
   ]
  },
  {
   "cell_type": "code",
   "execution_count": 44,
   "id": "03699bc0-5a0d-4a5e-ae31-01a6f6228443",
   "metadata": {},
   "outputs": [
    {
     "name": "stdout",
     "output_type": "stream",
     "text": [
      "\n",
      "🔹 추천 식품 리스트:\n",
      "      식품명(한글)        단백질       탄수화물         지방        칼로리\n",
      "13296     가리비  80.737403   7.322527  33.470122  33.918297\n",
      "13299      가지   0.413765   0.366223   0.053404   0.345224\n",
      "13302    가지구이   5.735354   0.192749   4.778234   3.164557\n",
      "13305     가츠동   5.182302   0.285911   7.335994   4.415995\n",
      "13308      간장   2.572716   0.488939   0.011243   0.762371\n",
      "13311    갈비구이  37.279803   2.184486  12.086121  12.802071\n",
      "13314     갈비찜   6.964359   0.256998   4.216089   3.020713\n",
      "13317     갈비탕   6.964359   0.256998   4.216089   3.020713\n",
      "13320       감   0.237608   1.194400   0.053404   1.006904\n",
      "13323    감귤주스   2.072921  10.905727   0.126483   9.853280\n"
     ]
    }
   ],
   "source": [
    "# ✅ 중복 제거 후, 상위 10개 식품만 선택\n",
    "recommended_foods = recommended_foods.drop_duplicates(subset=[\"식품명(한글)\"]).head(10)\n",
    "\n",
    "# ✅ 영양소 값이 너무 작으면 조정 (필요 시)\n",
    "if recommended_foods[\"단백질\"].max() < 10:  \n",
    "    recommended_foods[[\"단백질\", \"탄수화물\", \"지방\", \"칼로리\"]] *= 100\n",
    "\n",
    "# ✅ 결과 출력\n",
    "if recommended_foods.empty:\n",
    "    print(\"\\n⚠️ 해당 식단에 맞는 추천 식품이 없습니다.\")\n",
    "else:\n",
    "    print(\"\\n🔹 추천 식품 리스트:\")\n",
    "    print(recommended_foods)\n"
   ]
  },
  {
   "cell_type": "code",
   "execution_count": null,
   "id": "cd18b99c-3fb6-4124-aa50-685e2dfd4f51",
   "metadata": {},
   "outputs": [],
   "source": []
  }
 ],
 "metadata": {
  "kernelspec": {
   "display_name": "Python 3 (ipykernel)",
   "language": "python",
   "name": "python3"
  },
  "language_info": {
   "codemirror_mode": {
    "name": "ipython",
    "version": 3
   },
   "file_extension": ".py",
   "mimetype": "text/x-python",
   "name": "python",
   "nbconvert_exporter": "python",
   "pygments_lexer": "ipython3",
   "version": "3.8.20"
  },
  "widgets": {
   "application/vnd.jupyter.widget-state+json": {
    "state": {},
    "version_major": 2,
    "version_minor": 0
   }
  }
 },
 "nbformat": 4,
 "nbformat_minor": 5
}
