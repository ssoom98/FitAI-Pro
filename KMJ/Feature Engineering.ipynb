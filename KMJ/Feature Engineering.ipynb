{
 "cells": [
  {
   "cell_type": "code",
   "execution_count": 1,
   "id": "7a1c0a39-be09-4505-82da-74741a29fe51",
   "metadata": {},
   "outputs": [
    {
     "name": "stdout",
     "output_type": "stream",
     "text": [
      "✅ processed_body_type.csv 저장 완료!\n"
     ]
    }
   ],
   "source": [
    "import pandas as pd\n",
    "\n",
    "# ✅ 데이터 로드\n",
    "body_type_df = pd.read_csv(\"data/merged_body_type.csv\", encoding=\"utf-8\")\n",
    "\n",
    "# ✅ 체형 데이터 전처리\n",
    "body_type_df[\"성별\"] = body_type_df[\"성별\"].map({\"남성\": 0, \"여성\": 1})\n",
    "\n",
    "# 필요식단 키워드 추출 (One-Hot Encoding)\n",
    "body_type_df[\"저탄수화물\"] = body_type_df[\"필요식단\"].str.contains(\"저탄수화물\").astype(int)\n",
    "body_type_df[\"고단백\"] = body_type_df[\"필요식단\"].str.contains(\"고단백\").astype(int)\n",
    "body_type_df[\"고지방\"] = body_type_df[\"필요식단\"].str.contains(\"고지방\").astype(int)\n",
    "\n",
    "# ✅ 필요 없는 컬럼 삭제\n",
    "body_type_df.drop(columns=[\"필요식단\"], inplace=True)\n",
    "\n",
    "# ✅ 최종 데이터 저장\n",
    "body_type_df.to_csv(\"processed_body_type.csv\", index=False, encoding=\"utf-8-sig\")\n",
    "print(\"✅ processed_body_type.csv 저장 완료!\")\n"
   ]
  },
  {
   "cell_type": "code",
   "execution_count": null,
   "id": "22abed72-eb00-4ed9-879f-3fe58aba8373",
   "metadata": {},
   "outputs": [],
   "source": []
  }
 ],
 "metadata": {
  "kernelspec": {
   "display_name": "Python 3 (ipykernel)",
   "language": "python",
   "name": "python3"
  },
  "language_info": {
   "codemirror_mode": {
    "name": "ipython",
    "version": 3
   },
   "file_extension": ".py",
   "mimetype": "text/x-python",
   "name": "python",
   "nbconvert_exporter": "python",
   "pygments_lexer": "ipython3",
   "version": "3.8.20"
  },
  "widgets": {
   "application/vnd.jupyter.widget-state+json": {
    "state": {},
    "version_major": 2,
    "version_minor": 0
   }
  }
 },
 "nbformat": 4,
 "nbformat_minor": 5
}
