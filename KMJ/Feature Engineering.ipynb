{
 "cells": [
  {
   "cell_type": "code",
   "execution_count": 22,
   "id": "7a1c0a39-be09-4505-82da-74741a29fe51",
   "metadata": {},
   "outputs": [
    {
     "name": "stdout",
     "output_type": "stream",
     "text": [
      "🚀 병합 후 NaN 개수:\n",
      " 칼로리     0\n",
      "탄수화물    0\n",
      "단백질     0\n",
      "지방      0\n",
      "dtype: int64\n",
      "✅ final_dataset.csv 저장 완료!\n"
     ]
    }
   ],
   "source": [
    "import pandas as pd\n",
    "from sklearn.preprocessing import MinMaxScaler\n",
    "\n",
    "# ✅ 데이터 로드\n",
    "body_type_df = pd.read_csv(\"data/merged_body_type.csv\", encoding=\"utf-8\")\n",
    "food_nutrition_df = pd.read_csv(\"data/food_nutrition_data.csv\", encoding=\"utf-8\")\n",
    "\n",
    "# ✅ 체형 데이터 전처리\n",
    "body_type_df[\"성별\"] = body_type_df[\"성별\"].map({\"남성\": 0, \"여성\": 1})\n",
    "\n",
    "# 필요식단 키워드 추출\n",
    "body_type_df[\"저탄수화물\"] = body_type_df[\"필요식단\"].str.contains(\"저탄수화물\").astype(int)\n",
    "body_type_df[\"고단백\"] = body_type_df[\"필요식단\"].str.contains(\"고단백\").astype(int)\n",
    "body_type_df[\"고지방\"] = body_type_df[\"필요식단\"].str.contains(\"고지방\").astype(int)\n",
    "\n",
    "# ✅ MinMaxScaler 적용 (🔹 영양소 정규화 먼저 수행)\n",
    "scaler = MinMaxScaler()\n",
    "nutrition_cols = [\"칼로리\", \"탄수화물\", \"단백질\", \"지방\"]\n",
    "\n",
    "# 🔥 원본 데이터 백업\n",
    "merged_df[\"칼로리_원본\"] = merged_df[\"칼로리\"]\n",
    "merged_df[\"탄수화물_원본\"] = merged_df[\"탄수화물\"]\n",
    "merged_df[\"단백질_원본\"] = merged_df[\"단백질\"]\n",
    "merged_df[\"지방_원본\"] = merged_df[\"지방\"]\n",
    "\n",
    "# 🔥 MinMaxScaler 적용 (정규화)\n",
    "merged_df[nutrition_cols] = scaler.fit_transform(merged_df[nutrition_cols])\n",
    "\n",
    "# ✅ key 컬럼 추가 (🔥 중요!!)\n",
    "body_type_df[\"key\"] = 1\n",
    "food_nutrition_df[\"key\"] = 1  \n",
    "\n",
    "# ✅ Cross Join 수행 (체형 × 성별 × 음식)\n",
    "expanded_food_nutrition_df = pd.merge(\n",
    "    food_nutrition_df, \n",
    "    body_type_df[[\"체형\", \"성별\", \"key\"]], \n",
    "    on=\"key\"\n",
    ").drop(columns=[\"key\"])\n",
    "\n",
    "# ✅ 병합 (체형 + 성별 기준)\n",
    "merged_df = pd.merge(body_type_df, expanded_food_nutrition_df, on=[\"체형\", \"성별\"], how=\"left\")\n",
    "\n",
    "# ✅ 병합 후 NaN 값 확인 (🔍 디버깅)\n",
    "print(\"🚀 병합 후 NaN 개수:\\n\", merged_df[nutrition_cols].isna().sum())\n",
    "\n",
    "# ✅ 최종 데이터 저장\n",
    "merged_df.to_csv(\"final_dataset.csv\", index=False, encoding=\"utf-8-sig\")\n",
    "print(\"✅ final_dataset.csv 저장 완료!\")"
   ]
  },
  {
   "cell_type": "code",
   "execution_count": null,
   "id": "22abed72-eb00-4ed9-879f-3fe58aba8373",
   "metadata": {},
   "outputs": [],
   "source": []
  }
 ],
 "metadata": {
  "kernelspec": {
   "display_name": "Python 3 (ipykernel)",
   "language": "python",
   "name": "python3"
  },
  "language_info": {
   "codemirror_mode": {
    "name": "ipython",
    "version": 3
   },
   "file_extension": ".py",
   "mimetype": "text/x-python",
   "name": "python",
   "nbconvert_exporter": "python",
   "pygments_lexer": "ipython3",
   "version": "3.8.20"
  },
  "widgets": {
   "application/vnd.jupyter.widget-state+json": {
    "state": {},
    "version_major": 2,
    "version_minor": 0
   }
  }
 },
 "nbformat": 4,
 "nbformat_minor": 5
}
