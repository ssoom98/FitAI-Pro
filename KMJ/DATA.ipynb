{
 "cells": [
  {
   "cell_type": "code",
   "execution_count": 1,
   "id": "147f5c34-2a55-4d63-89ac-9070a7b0e5c2",
   "metadata": {},
   "outputs": [],
   "source": [
    "# import \n",
    "import pandas as pd"
   ]
  },
  {
   "cell_type": "markdown",
   "id": "6f23b10e-c813-425b-b588-c5a2084efa94",
   "metadata": {},
   "source": [
    "# 식단 Data\n",
    "# 일일 섭취 칼로리 추가"
   ]
  },
  {
   "cell_type": "code",
   "execution_count": 4,
   "id": "8fa2f7fd-9f93-48fb-9cd8-3b27cc34f6d0",
   "metadata": {},
   "outputs": [],
   "source": [
    "calorie_dict = {\n",
    "    \"사과형\": {\n",
    "        \"diet\": {\"남성\": 1500, \"여성\": 1300},\n",
    "        \"muscle_gain\": {\"남성\": 2500, \"여성\": 2200},\n",
    "        \"muscle_maintain_diet\": {\"남성\": 1800, \"여성\": 1600},\n",
    "    },\n",
    "    \"배형\": {\n",
    "        \"diet\": {\"남성\": 1600, \"여성\": 1400},\n",
    "        \"muscle_gain\": {\"남성\": 2600, \"여성\": 2300},\n",
    "        \"muscle_maintain_diet\": {\"남성\": 1900, \"여성\": 1700},\n",
    "    },\n",
    "    \"모래시계형\": {\n",
    "        \"diet\": {\"남성\": 1700, \"여성\": 1500},\n",
    "        \"muscle_gain\": {\"남성\": 2700, \"여성\": 2400},\n",
    "        \"muscle_maintain_diet\": {\"남성\": 2000, \"여성\": 1800},\n",
    "    },\n",
    "    \"엉덩이형\": {\n",
    "        \"diet\": {\"남성\": 1800, \"여성\": 1600},\n",
    "        \"muscle_gain\": {\"남성\": 2800, \"여성\": 2500},\n",
    "        \"muscle_maintain_diet\": {\"남성\": 2100, \"여성\": 1900},\n",
    "    },\n",
    "    \"상체형\": {\n",
    "        \"diet\": {\"남성\": 1900, \"여성\": 1700},\n",
    "        \"muscle_gain\": {\"남성\": 2900, \"여성\": 2600},\n",
    "        \"muscle_maintain_diet\": {\"남성\": 2200, \"여성\": 2000},\n",
    "    },\n",
    "    \"하체형\": {\n",
    "        \"diet\": {\"남성\": 2000, \"여성\": 1800},\n",
    "        \"muscle_gain\": {\"남성\": 3000, \"여성\": 2700},\n",
    "        \"muscle_maintain_diet\": {\"남성\": 2300, \"여성\": 2100},\n",
    "    },\n",
    "    \"표준 체형\": {\n",
    "        \"diet\": {\"남성\": 1700, \"여성\": 1500},\n",
    "        \"muscle_gain\": {\"남성\": 2700, \"여성\": 2400},\n",
    "        \"muscle_maintain_diet\": {\"남성\": 2000, \"여성\": 1800},\n",
    "    },\n",
    "}\n"
   ]
  },
  {
   "cell_type": "code",
   "execution_count": 6,
   "id": "71b4762d-3a09-44e1-82df-3c569af9d116",
   "metadata": {},
   "outputs": [],
   "source": [
    "# CSV 로드\n",
    "diet_df = pd.read_csv(\"data/체형(다이어트).csv\", encoding='cp949')\n",
    "muscle_gain_df = pd.read_csv(\"data/체형(근육).csv\", encoding='cp949')\n",
    "muscle_maintain_df = pd.read_csv(\"data/체형(근육량유지).csv\", encoding='cp949')\n",
    "\n",
    "# 칼로리 컬럼 추가\n",
    "def add_calories(df, goal):\n",
    "    df[\"일일 섭취 칼로리\"] = df.apply(lambda row: calorie_dict[row[\"체형\"]][goal][row[\"성별\"]], axis=1)\n",
    "    return df\n",
    "\n",
    "# 각 데이터프레임에 맞는 칼로리 추가\n",
    "diet_df = add_calories(diet_df, \"diet\")\n",
    "muscle_gain_df = add_calories(muscle_gain_df, \"muscle_gain\")\n",
    "muscle_maintain_df = add_calories(muscle_maintain_df, \"muscle_maintain_diet\")\n",
    "\n",
    "# CSV 저장\n",
    "diet_df.to_csv(\"data/diet.csv\", index=False)\n",
    "muscle_gain_df.to_csv(\"data/muscle.csv\", index=False)\n",
    "muscle_maintain_df.to_csv(\"data/muscle_diet.csv\", index=False)"
   ]
  },
  {
   "cell_type": "code",
   "execution_count": null,
   "id": "b653fae4-54ec-4879-aebd-2093e8df98b2",
   "metadata": {},
   "outputs": [],
   "source": []
  },
  {
   "cell_type": "code",
   "execution_count": null,
   "id": "a564a8c0-d0e3-4996-b78b-1c1ba2de382f",
   "metadata": {},
   "outputs": [],
   "source": []
  },
  {
   "cell_type": "code",
   "execution_count": null,
   "id": "41dc4fb7-3b29-4557-a4cf-6439848367d0",
   "metadata": {},
   "outputs": [],
   "source": []
  },
  {
   "cell_type": "code",
   "execution_count": null,
   "id": "fe798b2e-67b7-46b6-8880-0fb0a9670f51",
   "metadata": {},
   "outputs": [],
   "source": []
  },
  {
   "cell_type": "code",
   "execution_count": null,
   "id": "302cb71d-1abb-4319-a8a8-239604b00b5a",
   "metadata": {},
   "outputs": [],
   "source": []
  },
  {
   "cell_type": "code",
   "execution_count": null,
   "id": "f447329e-d839-4fbc-82dc-f87effe3c970",
   "metadata": {},
   "outputs": [],
   "source": []
  },
  {
   "cell_type": "code",
   "execution_count": null,
   "id": "459725db-119a-4e80-a6b2-011c53be6ef8",
   "metadata": {},
   "outputs": [],
   "source": []
  },
  {
   "cell_type": "code",
   "execution_count": null,
   "id": "415bb2fa-db69-4770-9cfa-896e52a82e12",
   "metadata": {},
   "outputs": [],
   "source": []
  },
  {
   "cell_type": "code",
   "execution_count": null,
   "id": "f448ab3d-0817-46e1-9f36-a5c767c2fb5a",
   "metadata": {},
   "outputs": [],
   "source": []
  },
  {
   "cell_type": "code",
   "execution_count": null,
   "id": "f38029a2-563c-4197-bc8f-d841e27b4a6e",
   "metadata": {},
   "outputs": [],
   "source": []
  }
 ],
 "metadata": {
  "kernelspec": {
   "display_name": "Python 3 (ipykernel)",
   "language": "python",
   "name": "python3"
  },
  "language_info": {
   "codemirror_mode": {
    "name": "ipython",
    "version": 3
   },
   "file_extension": ".py",
   "mimetype": "text/x-python",
   "name": "python",
   "nbconvert_exporter": "python",
   "pygments_lexer": "ipython3",
   "version": "3.8.20"
  },
  "widgets": {
   "application/vnd.jupyter.widget-state+json": {
    "state": {},
    "version_major": 2,
    "version_minor": 0
   }
  }
 },
 "nbformat": 4,
 "nbformat_minor": 5
}
