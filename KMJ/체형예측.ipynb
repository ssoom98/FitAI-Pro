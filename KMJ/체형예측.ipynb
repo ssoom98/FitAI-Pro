{
 "cells": [
  {
   "cell_type": "code",
   "execution_count": 16,
   "id": "cd18b99c-3fb6-4124-aa50-685e2dfd4f51",
   "metadata": {},
   "outputs": [
    {
     "name": "stdout",
     "output_type": "stream",
     "text": [
      "✅ 체형별 식단 데이터 생성 완료! 파일: generated_meal_plan.csv\n"
     ]
    }
   ],
   "source": [
    "import pandas as pd\n",
    "import random\n",
    "\n",
    "# 식품 데이터 로드\n",
    "file_path = \"data/food_nutrition_data.csv\"\n",
    "food_df = pd.read_csv(file_path)\n",
    "\n",
    "# 사용자가 입력할 가능성이 있는 값들\n",
    "genders = [\"남성\", \"여성\"]\n",
    "body_types = [\"사과형\", \"배형\", \"모래시계형\", \"엉덩이형\", \"상체형\", \"하체형\", \"표준체형\"]\n",
    "goals = [\"diet\", \"maintain\", \"gain\"]\n",
    "\n",
    "# 식단 데이터 생성\n",
    "data_list = []\n",
    "for gender in genders:\n",
    "    for body_type in body_types:\n",
    "        for goal in goals:\n",
    "            # 아침, 점심, 저녁 랜덤 선택\n",
    "            breakfast = food_df.sample(n=1).iloc[0]\n",
    "            lunch = food_df.sample(n=1).iloc[0]\n",
    "            dinner = food_df.sample(n=1).iloc[0]\n",
    "\n",
    "            # 총 영양소 계산\n",
    "            total_calories = breakfast[\"칼로리\"] + lunch[\"칼로리\"] + dinner[\"칼로리\"]\n",
    "            total_carb = breakfast[\"탄수화물\"] + lunch[\"탄수화물\"] + dinner[\"탄수화물\"]\n",
    "            total_protein = breakfast[\"단백질\"] + lunch[\"단백질\"] + dinner[\"단백질\"]\n",
    "            total_fat = breakfast[\"지방\"] + lunch[\"지방\"] + dinner[\"지방\"]\n",
    "\n",
    "            # 데이터 리스트 추가\n",
    "            data_list.append([gender, body_type, goal, \n",
    "                              breakfast[\"식품명(한글)\"], lunch[\"식품명(한글)\"], dinner[\"식품명(한글)\"], \n",
    "                              total_calories, total_carb, total_protein, total_fat])\n",
    "\n",
    "# 데이터프레임 생성\n",
    "columns = [\"성별\", \"체형\", \"목표\", \"아침\", \"점심\", \"저녁\", \"총 칼로리\", \"탄수화물\", \"단백질\", \"지방\"]\n",
    "meal_plan_df = pd.DataFrame(data_list, columns=columns)\n",
    "\n",
    "# CSV 저장\n",
    "meal_plan_df.to_csv(\"data/generated_meal_plan.csv\", index=False)\n",
    "print(\"✅ 체형별 식단 데이터 생성 완료! 파일: generated_meal_plan.csv\")\n"
   ]
  },
  {
   "cell_type": "code",
   "execution_count": null,
   "id": "3c2b731f-b5fb-4996-b0c4-b8d2b046b0d6",
   "metadata": {},
   "outputs": [],
   "source": []
  }
 ],
 "metadata": {
  "kernelspec": {
   "display_name": "Python 3 (ipykernel)",
   "language": "python",
   "name": "python3"
  },
  "language_info": {
   "codemirror_mode": {
    "name": "ipython",
    "version": 3
   },
   "file_extension": ".py",
   "mimetype": "text/x-python",
   "name": "python",
   "nbconvert_exporter": "python",
   "pygments_lexer": "ipython3",
   "version": "3.8.20"
  },
  "widgets": {
   "application/vnd.jupyter.widget-state+json": {
    "state": {},
    "version_major": 2,
    "version_minor": 0
   }
  }
 },
 "nbformat": 4,
 "nbformat_minor": 5
}
